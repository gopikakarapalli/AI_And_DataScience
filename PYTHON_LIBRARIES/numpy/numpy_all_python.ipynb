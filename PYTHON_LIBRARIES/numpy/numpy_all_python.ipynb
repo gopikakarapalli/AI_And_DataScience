{
 "cells": [
  {
   "cell_type": "markdown",
   "metadata": {},
   "source": [
    "# numpy ( Numerical python)\n",
    "read --> https://docs.scipy.org/doc/numpy/user/quickstart.html"
   ]
  },
  {
   "cell_type": "raw",
   "metadata": {},
   "source": [
    "-> numpy  is the core library for scientific computing in python\n",
    "-> it provides a high performance multidimensional array object and tools for working with those arrays\n",
    "-> to install numpy:--> conda install numpy   (or)\n",
    "        type in cmd---> pip install numpy"
   ]
  },
  {
   "cell_type": "code",
   "execution_count": 4,
   "metadata": {},
   "outputs": [],
   "source": [
    "import numpy as np  # we can use numpy must be import "
   ]
  },
  {
   "cell_type": "code",
   "execution_count": 5,
   "metadata": {},
   "outputs": [],
   "source": [
    "import sys\n",
    "import time\n",
    "import matplotlib.pyplot as matpy"
   ]
  },
  {
   "cell_type": "code",
   "execution_count": 6,
   "metadata": {},
   "outputs": [
    {
     "name": "stdout",
     "output_type": "stream",
     "text": [
      "to cerate a array\n",
      "one dim --->\n",
      " [1 2 3]\n",
      "two dim --->\n",
      " [[ 1  2  3]\n",
      " [34  5  6]]\n",
      "mult dim --->\n",
      " [['1' '2' '3' '4']\n",
      " ['34' '5' '6' '7']\n",
      " ['1.9' '3' 'go' 'pi']]\n"
     ]
    }
   ],
   "source": [
    "print('to cerate a array' )\n",
    "\n",
    "a= np.array([1,2,3])                  # one dimensional array\n",
    "print('one dim --->\\n',a)\n",
    "b= np.array([(1,2,3),(34,5,6)])     # two dimensional array [][]\n",
    "print('two dim --->\\n',b)\n",
    "c= np.array([(1,2,3,4),(34,5,6,7),(1.9,3,'go','pi')])     # mult dimensional array [][][]\n",
    "print('mult dim --->\\n',c)"
   ]
  },
  {
   "cell_type": "code",
   "execution_count": 7,
   "metadata": {},
   "outputs": [
    {
     "name": "stdout",
     "output_type": "stream",
     "text": [
      "convert list into array\n",
      "[[1 2 3]\n",
      " [1 2 5]\n",
      " [6 7 8]]\n"
     ]
    }
   ],
   "source": [
    "print('convert list into array')\n",
    "#\n",
    "d=[[1,2,3],[1,2,5],[6,7,8]]\n",
    "D=np.array(d) #to convert list into array\n",
    "print(D)\n",
    "\n"
   ]
  },
  {
   "cell_type": "markdown",
   "metadata": {},
   "source": [
    "### comparsion of list and array"
   ]
  },
  {
   "cell_type": "code",
   "execution_count": 8,
   "metadata": {},
   "outputs": [
    {
     "name": "stdout",
     "output_type": "stream",
     "text": [
      "arrays are used less memorys\n",
      "memory of list used : 280000\n",
      "memory of list used : 40000\n",
      "arrays are fast ie.,it take less time\n",
      "time taken by list : 256.0238838195801 msec\n",
      "time taken by array : 66.56932830810547 msec\n"
     ]
    }
   ],
   "source": [
    "print('arrays are used less memorys')\n",
    "#\n",
    "r=range(10000)\n",
    "print('memory of list used :',sys.getsizeof(5)*len(r)) # import sys\n",
    "\n",
    "r=np.arange(10000)\n",
    "print('memory of list used :',r.size*r.itemsize)\n",
    "#\n",
    "print('arrays are fast ie.,it take less time')\n",
    "#\n",
    "SIZE = 1000000\n",
    "l1=range(SIZE)\n",
    "l2=range(SIZE)\n",
    "start = time.time()\n",
    "result = [(x,y) for x,y in zip (l1,l2)]\n",
    "print('time taken by list :',(time.time()-start)*1000,'msec') #import time\n",
    "\n",
    "a1=np.arange(SIZE)\n",
    "a2=np.arange(SIZE)\n",
    "start = time.time()\n",
    "result = a1+a2\n",
    "print('time taken by array :',(time.time()-start)*1000,'msec')\n",
    "#\n"
   ]
  },
  {
   "cell_type": "markdown",
   "metadata": {},
   "source": [
    "### numpy arras"
   ]
  },
  {
   "cell_type": "code",
   "execution_count": 9,
   "metadata": {},
   "outputs": [
    {
     "name": "stdout",
     "output_type": "stream",
     "text": [
      "to cerate a array\n",
      "one dim --->\n",
      " [1 2 3]\n",
      "two dim --->\n",
      " [[ 1  2  3  4]\n",
      " [34  5  6  5]]\n",
      "mult dim  --->\n",
      " [[1 2 3 4]\n",
      " [3 5 6 7]\n",
      " [1 3 5 5]]\n"
     ]
    }
   ],
   "source": [
    "print('to cerate a array' )\n",
    "a= np.array([1,2,3])                  # one dimensional array\n",
    "print('one dim --->\\n',a)\n",
    "b= np.array([(1,2,3,4),(34,5,6,5)])     # two dimensional array [][]\n",
    "print('two dim --->\\n',b)\n",
    "c= np.array([(1,2,3,4),(3,5,6,7),(1,3,5,5)])   # mult dimensional array [][][]\n",
    "print('mult dim  --->\\n',c)"
   ]
  },
  {
   "cell_type": "markdown",
   "metadata": {},
   "source": [
    "### finding array porperties"
   ]
  },
  {
   "cell_type": "code",
   "execution_count": 12,
   "metadata": {},
   "outputs": [
    {
     "name": "stdout",
     "output_type": "stream",
     "text": [
      "finding array porperties:\n",
      "---------------------------\n",
      "array dimension-->a  1\n",
      "array b--> 2 array c--> 2\n",
      "size of each element in array  4\n",
      "data type of elementin arrey  int32\n",
      "size of array 3\n",
      "shape of array (3,)\n",
      "shape of array (3, 4)\n"
     ]
    }
   ],
   "source": [
    "print('finding array porperties:')\n",
    "print('---------------------------')\n",
    "print('array dimension-->a ',a.ndim)     # it returns the dimension of array\n",
    "print('array b-->',b.ndim,'array c-->',c.ndim)\n",
    "print('size of each element in array ',a.itemsize)  #it returns the each element size in the array\n",
    "print('data type of elementin arrey ',a.dtype)#it return type of elements in the arrey\n",
    "print('size of array',a.size)         # it returns size of array\n",
    "print('shape of array',a.shape)     # it returns shape of array\n",
    "print('shape of array',c.shape)     #o/p (no.of row, no.of colu)\n",
    "#\n"
   ]
  },
  {
   "cell_type": "markdown",
   "metadata": {},
   "source": [
    "### RESHAPE \n",
    "Returns an array containing the same data with a new shape."
   ]
  },
  {
   "cell_type": "code",
   "execution_count": 17,
   "metadata": {},
   "outputs": [
    {
     "name": "stdout",
     "output_type": "stream",
     "text": [
      "reshape -->array.reshape(row,col)\n",
      "two dim --->\n",
      " [[ 1  2  3  4]\n",
      " [34  5  6  5]]\n",
      "[[ 1  2]\n",
      " [ 3  4]\n",
      " [34  5]\n",
      " [ 6  5]]\n"
     ]
    }
   ],
   "source": [
    "print('reshape -->array.reshape(row,col)')\n",
    "print('two dim --->\\n',b)\n",
    "#b=b.reshape(4,2)                it is covererts one shape into anther shape with in the array size\n",
    "#print('reshape arrar \\n',b)\n",
    "B=np.reshape(b,(4,2))\n",
    "print(B)"
   ]
  },
  {
   "cell_type": "markdown",
   "metadata": {},
   "source": [
    "### meshgrid"
   ]
  },
  {
   "cell_type": "code",
   "execution_count": 24,
   "metadata": {},
   "outputs": [
    {
     "name": "stdout",
     "output_type": "stream",
     "text": [
      "[[0 1 2 3 4 5 6 7 8 9]\n",
      " [0 1 2 3 4 5 6 7 8 9]\n",
      " [0 1 2 3 4 5 6 7 8 9]\n",
      " [0 1 2 3 4 5 6 7 8 9]\n",
      " [0 1 2 3 4 5 6 7 8 9]\n",
      " [0 1 2 3 4 5 6 7 8 9]]\n",
      "[[0 0 0 0 0 0 0 0 0 0]\n",
      " [1 1 1 1 1 1 1 1 1 1]\n",
      " [2 2 2 2 2 2 2 2 2 2]\n",
      " [3 3 3 3 3 3 3 3 3 3]\n",
      " [4 4 4 4 4 4 4 4 4 4]\n",
      " [5 5 5 5 5 5 5 5 5 5]]\n"
     ]
    }
   ],
   "source": [
    "xx= np.array(range(0,10))\n",
    "yy= np.array(range(0,6))\n",
    "x,y = np.meshgrid(xx,yy)\n",
    "print(x)\n",
    "print(y)"
   ]
  },
  {
   "cell_type": "markdown",
   "metadata": {},
   "source": [
    "### array math opration"
   ]
  },
  {
   "cell_type": "code",
   "execution_count": 44,
   "metadata": {},
   "outputs": [
    {
     "name": "stdout",
     "output_type": "stream",
     "text": [
      " max,min & sum of numder in the array elements:\n",
      "[1 2 3]\n",
      "max number in the array :  3\n",
      "sum of number in the array :  6\n",
      "returns max number index  in the array :  2\n",
      "returns min number index in the array :  0\n",
      "axis based opration in array :\n",
      "[[1 2 3 4]\n",
      " [3 5 6 7]\n",
      " [1 3 5 5]]\n",
      "sum of each colum elements in array:\n",
      " [ 5 10 14 16]\n",
      "sum of each row elements in array  :\n",
      " [10 21 14]\n",
      "sqrt of each element in array :\n",
      " [[1.         1.41421356 1.73205081 2.        ]\n",
      " [1.73205081 2.23606798 2.44948974 2.64575131]\n",
      " [1.         1.73205081 2.23606798 2.23606798]]\n",
      "standard deviation of array :\n",
      " 1.8314384146529925\n"
     ]
    }
   ],
   "source": [
    "print(' max,min & sum of numder in the array elements:')\n",
    "print(a)\n",
    "print('max number in the array : ',a.max())\n",
    "\n",
    "print('sum of number in the array : ',a.sum())\n",
    "print('returns max number index  in the array : ',a.argmax())\n",
    "print('returns min number index in the array : ',a.argmin())\n",
    "#\n",
    "print('axis based opration in array :')               \n",
    "print(c)\n",
    "print('sum of each colum elements in array:\\n',c.sum(axis=0)) #if axis=0 then sum of each colum elements in array will be return\n",
    "print('sum of each row elements in array  :\\n',c.sum(axis=1)) #if axis=1 then sum of each row elements in array will be return\n",
    "print('sqrt of each element in array :\\n',np.sqrt(c))\n",
    "print('standard deviation of array :\\n',np.std(c))"
   ]
  },
  {
   "cell_type": "code",
   "execution_count": null,
   "metadata": {},
   "outputs": [],
   "source": [
    "print(\"arrays +,-,*,/\")\n",
    "\n",
    "a=np.array([(1,2,3,4,),(4,5,6,7),(8,9,0,1)])\n",
    "b=np.array([(1,3,5,6,),(4,5,6,7),(1,2,3,4,)])\n",
    "print('add-->\\n',a+b)\n",
    "print('sub-->\\n',a-b)\n",
    "print('mul-->\\n',a*b)\n",
    "print('div-->\\n',a/b)\n"
   ]
  },
  {
   "cell_type": "code",
   "execution_count": null,
   "metadata": {},
   "outputs": [],
   "source": [
    "print('array a \\n',a,'\\n array b\\n' ,b)\n",
    "print('vertical stack of  array-->\\n   ',np.vstack(a))# it  cerated  a vertical stack of array one are more array dependes on arg()\n",
    "print('vertical stack of two array-->\\n',np.vstack((a,b,)))  # (array 1,array 2)\n",
    "print('array a \\n',a,'\\n array b\\n',b)\n",
    "print('horizontal stack of array-->\\n'   ,np.hstack(a)) # it  cerated a horizontal stack of array one are more array dependes on arg()\n",
    "print('horizontal stack of two array-->\\n',np.hstack((a,b)))# (array 1,array 2)\n",
    "print('flate')#  it  cerated vertical  into  horizontal  array and changes will not be feedback to the old array\n",
    "print(' ravel of array-->\\n',a.ravel())#  it  cerated vertical  into  horizontal  array and changes will be feedback to the old array\n"
   ]
  },
  {
   "cell_type": "markdown",
   "metadata": {},
   "source": [
    "### equal deffernce numbers b/e two number"
   ]
  },
  {
   "cell_type": "code",
   "execution_count": 46,
   "metadata": {},
   "outputs": [
    {
     "name": "stdout",
     "output_type": "stream",
     "text": [
      "equal deffernce numbers b/e two numbers : np.linspace(start no,end no,no.of numbers b/e two numbers\n",
      "[1.  1.8 2.6 3.4 4.2 5. ]\n",
      "[1.00000000e+01 6.30957344e+01 3.98107171e+02 2.51188643e+03\n",
      " 1.58489319e+04 1.00000000e+05]\n"
     ]
    }
   ],
   "source": [
    "print('equal deffernce numbers b/e two numbers : np.linspace(start no,end no,no.of numbers b/e two numbers')\n",
    "print(np.linspace(1,5,6)) #to get a equal deffernce numbers b/e two numbers\n",
    "print(np.logspace(1,5,6))"
   ]
  },
  {
   "cell_type": "markdown",
   "metadata": {},
   "source": [
    "#### zeros or ones"
   ]
  },
  {
   "cell_type": "code",
   "execution_count": null,
   "metadata": {},
   "outputs": [],
   "source": [
    "print(np.zeros(4)) #to print a no. zeros in n dim array\n",
    "print(np.ones(5))  #to print a no. ones in n dim array\n",
    "print(np.zeros((4,4))) #4 dim array\n"
   ]
  },
  {
   "cell_type": "markdown",
   "metadata": {},
   "source": [
    "#### eye\n",
    "Creates an identity matrix"
   ]
  },
  {
   "cell_type": "code",
   "execution_count": 48,
   "metadata": {},
   "outputs": [
    {
     "name": "stdout",
     "output_type": "stream",
     "text": [
      "[[1 0 0]\n",
      " [0 1 0]\n",
      " [0 0 1]]\n",
      "[[1. 0. 0.]\n",
      " [0. 1. 0.]\n",
      " [0. 0. 1.]\n",
      " [0. 0. 0.]]\n"
     ]
    }
   ],
   "source": [
    "I=np.identity(3,dtype=int)# creat squ mx\n",
    "print(I)\n",
    "ey=np.eye(4,3)#any dim\n",
    "print(ey)"
   ]
  },
  {
   "cell_type": "code",
   "execution_count": 51,
   "metadata": {},
   "outputs": [
    {
     "name": "stdout",
     "output_type": "stream",
     "text": [
      "[[0. 0. 1.]\n",
      " [0. 0. 0.]\n",
      " [0. 0. 0.]\n",
      " [0. 0. 0.]]\n",
      "------------------\n",
      "[[0. 0. 0.]\n",
      " [0. 0. 0.]\n",
      " [1. 0. 0.]\n",
      " [0. 1. 0.]]\n"
     ]
    }
   ],
   "source": [
    "ey=np.eye(4,3,k=2)#k=+ve for col k=-ve for row\n",
    "print(ey)\n",
    "print('------------------')\n",
    "ey=np.eye(4,3,k=-2)#k=+ve for col k=-ve for row\n",
    "print(ey)\n",
    "\n"
   ]
  },
  {
   "cell_type": "code",
   "execution_count": 40,
   "metadata": {},
   "outputs": [
    {
     "name": "stdout",
     "output_type": "stream",
     "text": [
      "[[nan nan nan nan]\n",
      " [inf inf inf inf]\n",
      " [ 0.  0.  1.  0.]\n",
      " [ 0.  0.  0.  1.]]\n",
      "[nan nan nan nan] [inf inf inf inf]\n"
     ]
    },
    {
     "data": {
      "text/plain": [
       "array([[ True,  True,  True,  True],\n",
       "       [False, False, False, False],\n",
       "       [False, False, False, False],\n",
       "       [False, False, False, False]])"
      ]
     },
     "execution_count": 40,
     "metadata": {},
     "output_type": "execute_result"
    }
   ],
   "source": [
    "ey[0]=np.nan\n",
    "ey[1]=np.inf#over flow\n",
    "print(ey)\n",
    "print(ey[0],ey[1])\n",
    "np.isnan(ey)"
   ]
  },
  {
   "cell_type": "code",
   "execution_count": 41,
   "metadata": {},
   "outputs": [
    {
     "name": "stdout",
     "output_type": "stream",
     "text": [
      "(array([0, 0, 0, 0], dtype=int64), array([0, 1, 2, 3], dtype=int64))\n",
      "(array([1, 1, 1, 1], dtype=int64), array([0, 1, 2, 3], dtype=int64))\n"
     ]
    }
   ],
   "source": [
    "print(np.where(np.isnan(ey)))\n",
    "print(np.where(np.isinf(ey)))"
   ]
  },
  {
   "cell_type": "code",
   "execution_count": 43,
   "metadata": {},
   "outputs": [
    {
     "name": "stdout",
     "output_type": "stream",
     "text": [
      "(array([2, 3], dtype=int64), array([2, 3], dtype=int64))\n"
     ]
    }
   ],
   "source": [
    "ey[np.where(np.isnan(ey))]=0.5\n",
    "ey[np.where(np.isinf(ey))]=0.6\n",
    "print(np.where(ey > 0.6))"
   ]
  },
  {
   "cell_type": "code",
   "execution_count": null,
   "metadata": {},
   "outputs": [],
   "source": [
    "print('special functions')\n",
    "#\n",
    "print('to get a sin valve',np.sin(30))\n",
    "print('to get a cos valve',np.cos(30))\n",
    "print('to get a tan valve',np.tan(30))\n",
    "print('to get a exponen valve',np.exp([1,3,4]))\n",
    "print('to get a ln valve',np.log([1,3,4])) # nuturl log =>ln base 2\n",
    "print('to get a ln valve',np.log10([1,3,4]))#log with base 10\n"
   ]
  },
  {
   "cell_type": "code",
   "execution_count": null,
   "metadata": {},
   "outputs": [],
   "source": [
    "print('to get a sin,cos & tan etc.., plots')\n",
    "#sin plot\n",
    "x=np.arange(0,3*np.pi,0.1)\n",
    "y=np.sin(x)                  #just replace sin with tan ,cat etc .,\n",
    "matpy.plot(x,y)              #to plot x y plot & must be import matplotlib.pyplot\n",
    "matpy.show()                 #to show a plot popup\n"
   ]
  },
  {
   "cell_type": "code",
   "execution_count": null,
   "metadata": {},
   "outputs": [],
   "source": [
    "#cos plottial\n",
    "x=np.arange(0,3*np.pi,0.1)\n",
    "y=np.cos(x)\n",
    "matpy.plot(x,y)\n",
    "matpy.show()\n"
   ]
  },
  {
   "cell_type": "code",
   "execution_count": null,
   "metadata": {},
   "outputs": [],
   "source": []
  },
  {
   "cell_type": "code",
   "execution_count": null,
   "metadata": {},
   "outputs": [],
   "source": [
    "r=[1,1,2,3,4,5]\n",
    "r1=np.array(r)\n",
    "print(np.dtype(r1))\n",
    "r1.astype(float)\n",
    "print(r1)\n"
   ]
  },
  {
   "cell_type": "markdown",
   "metadata": {},
   "source": [
    "## NumPy Indexing and Selection\n",
    " select elements or groups of elements from an array."
   ]
  },
  {
   "cell_type": "code",
   "execution_count": 29,
   "metadata": {},
   "outputs": [
    {
     "name": "stdout",
     "output_type": "stream",
     "text": [
      "slicing ---> array[row:1-end row,col:1-end col]\n",
      "array c : [[1 2 3 4]\n",
      " [3 5 6 7]\n",
      " [1 3 5 5]]\n",
      "slicing 1 : 3\n",
      "slicing 2 : [4 7 5]\n",
      "slicing 3 : [5 3]\n",
      "slicing 4 : [3 6 5]\n",
      "slicing 5 : [4 7]\n"
     ]
    }
   ],
   "source": [
    "print('slicing ---> array[row:1-end row,col:1-end col]')\n",
    "print(\"array c :\",c)\n",
    "print('slicing 1 :',c[0,2])   # index calling\n",
    "print('slicing 2 :',c[0:,3]) # array[row:1-end row,indxe]\n",
    "print('slicing 3 :',c[1:,1]) \n",
    "print('slicing 4 :',c[:,2])\n",
    "print('slicing 5 :',c[0:2,3])\n",
    "\n"
   ]
  },
  {
   "cell_type": "markdown",
   "metadata": {},
   "source": [
    "### Broadcasting\n",
    "Numpy arrays differ from a normal Python list because of their ability to broadcast:"
   ]
  },
  {
   "cell_type": "code",
   "execution_count": 13,
   "metadata": {},
   "outputs": [
    {
     "name": "stdout",
     "output_type": "stream",
     "text": [
      "[100 100 100 100 100   5   6   7   8   9  10]\n"
     ]
    }
   ],
   "source": [
    "#Setting a value with index range (Broadcasting)\n",
    "arr = np.arange(0,11)\n",
    "arr[0:5]=100\n",
    "print(arr)"
   ]
  },
  {
   "cell_type": "code",
   "execution_count": 15,
   "metadata": {},
   "outputs": [
    {
     "name": "stdout",
     "output_type": "stream",
     "text": [
      "[100 100 100 100 100   5]\n"
     ]
    }
   ],
   "source": [
    "#Important notes on Slices\n",
    "slice_of_arr = arr[0:6]\n",
    "\n",
    "print(slice_of_arr)"
   ]
  },
  {
   "cell_type": "code",
   "execution_count": 18,
   "metadata": {},
   "outputs": [
    {
     "name": "stdout",
     "output_type": "stream",
     "text": [
      "slice_of_arr [99 99 99 99 99 99]\n",
      "arr [99 99 99 99 99 99  6  7  8  9 10]\n"
     ]
    }
   ],
   "source": [
    "#Change Slice\n",
    "slice_of_arr[:]=99\n",
    "#Show Slice again\n",
    "print('slice_of_arr',slice_of_arr)\n",
    "print('arr',arr)#Now note the changes also occur in our original array!"
   ]
  },
  {
   "cell_type": "markdown",
   "metadata": {},
   "source": [
    "### Indexing a 2D array (matrices)"
   ]
  },
  {
   "cell_type": "code",
   "execution_count": 20,
   "metadata": {},
   "outputs": [
    {
     "name": "stdout",
     "output_type": "stream",
     "text": [
      "[[ 5 10 15]\n",
      " [20 25 30]\n",
      " [35 40 45]]\n"
     ]
    }
   ],
   "source": [
    "arr_2d = np.array(([5,10,15],[20,25,30],[35,40,45]))\n",
    "\n",
    "print(arr_2d)"
   ]
  },
  {
   "cell_type": "code",
   "execution_count": 21,
   "metadata": {},
   "outputs": [
    {
     "data": {
      "text/plain": [
       "array([20, 25, 30])"
      ]
     },
     "execution_count": 21,
     "metadata": {},
     "output_type": "execute_result"
    }
   ],
   "source": [
    "#Indexing row\n",
    "arr_2d[1]\n"
   ]
  },
  {
   "cell_type": "code",
   "execution_count": 24,
   "metadata": {},
   "outputs": [
    {
     "name": "stdout",
     "output_type": "stream",
     "text": [
      "20\n",
      "20\n"
     ]
    }
   ],
   "source": [
    "# Format is arr_2d[row][col] or arr_2d[row,col]\n",
    "\n",
    "# Getting individual element value\n",
    "print(arr_2d[1][0])\n",
    "\n",
    "print(arr_2d[1,0])"
   ]
  },
  {
   "cell_type": "code",
   "execution_count": 27,
   "metadata": {},
   "outputs": [
    {
     "name": "stdout",
     "output_type": "stream",
     "text": [
      "[[ 5 10 15]\n",
      " [20 25 30]\n",
      " [35 40 45]]\n",
      "[[10 15]\n",
      " [25 30]]\n"
     ]
    }
   ],
   "source": [
    "# 2D array slicing\n",
    "print(arr_2d)\n",
    "#Shape (2,2) from top right corner\n",
    "\n",
    "print(arr_2d[:2,1:])(r,c)"
   ]
  },
  {
   "cell_type": "code",
   "execution_count": 32,
   "metadata": {},
   "outputs": [
    {
     "name": "stdout",
     "output_type": "stream",
     "text": [
      "[35 40 45]\n",
      "[35 40 45]\n"
     ]
    }
   ],
   "source": [
    "#Shape bottom row\n",
    "print(arr_2d[2])\n",
    "print(arr_2d[2,:])"
   ]
  },
  {
   "cell_type": "markdown",
   "metadata": {},
   "source": [
    "###  Selection\n",
    "selection based off of comparison operators."
   ]
  },
  {
   "cell_type": "code",
   "execution_count": 35,
   "metadata": {},
   "outputs": [
    {
     "data": {
      "text/plain": [
       "array([ 1,  2,  3,  4,  5,  6,  7,  8,  9, 10])"
      ]
     },
     "execution_count": 35,
     "metadata": {},
     "output_type": "execute_result"
    }
   ],
   "source": [
    "arr = np.arange(1,11)\n",
    "arr"
   ]
  },
  {
   "cell_type": "code",
   "execution_count": 38,
   "metadata": {},
   "outputs": [
    {
     "name": "stdout",
     "output_type": "stream",
     "text": [
      "[False False False False  True  True  True  True  True  True]\n"
     ]
    }
   ],
   "source": [
    "print(arr>4)\n"
   ]
  },
  {
   "cell_type": "code",
   "execution_count": 39,
   "metadata": {},
   "outputs": [
    {
     "data": {
      "text/plain": [
       "array([ 5,  6,  7,  8,  9, 10])"
      ]
     },
     "execution_count": 39,
     "metadata": {},
     "output_type": "execute_result"
    }
   ],
   "source": [
    "arr[arr>4]"
   ]
  },
  {
   "cell_type": "markdown",
   "metadata": {},
   "source": [
    "## Random\n",
    "Numpy also has lots of ways to create random number arrays:"
   ]
  },
  {
   "cell_type": "code",
   "execution_count": 40,
   "metadata": {},
   "outputs": [
    {
     "name": "stdout",
     "output_type": "stream",
     "text": [
      "rand\n",
      " [[0.31924036 0.27837394]\n",
      " [0.46556315 0.69780669]\n",
      " [0.22054391 0.80767547]]\n",
      "randn \n",
      " [[ 1.05421588  0.70139149 -0.09718288 -1.20634476]\n",
      " [-1.44976293  0.09432883  0.86105679  2.58214679]\n",
      " [ 1.77549107  0.4863218  -0.25520098  0.4084793 ]]\n",
      "randint [3 4 2 3 3 3 4 4 2 2]\n",
      "randint [1 0 1 1 0 0 1 1 1 1]\n",
      "randint [[3 2 0 3]\n",
      " [2 0 2 2]]\n",
      "random_integers 6\n",
      "random_integers [[5 1]\n",
      " [4 5]\n",
      " [1 3]]\n",
      "sample\n",
      " [0.61281124 0.22307857 0.27802201 0.79456274 0.96335691]\n",
      "sample \n",
      " [[0.76642067 0.24298382 0.06648624 0.96752599 0.05930589 0.68917521]\n",
      " [0.03445415 0.79725102 0.25939352 0.55071285 0.78634381 0.74222594]\n",
      " [0.64352611 0.50809476 0.94646589 0.8043887  0.08984838 0.72802935]\n",
      " [0.84669595 0.36501857 0.52403637 0.1141231  0.2959268  0.19398957]\n",
      " [0.42941371 0.33189744 0.0174039  0.31699962 0.65902489 0.5638336 ]]\n",
      "choice [0 4 4]\n",
      "[2 3 3]\n",
      "[1 4 2]\n",
      "[3 2 0]\n",
      "['pooh' 'piglet' 'Christopher' 'pooh' 'piglet']\n",
      "bytes b'zh<)g'\n"
     ]
    },
    {
     "name": "stderr",
     "output_type": "stream",
     "text": [
      "c:\\users\\gopi\\appdata\\local\\programs\\python\\python37\\lib\\site-packages\\ipykernel_launcher.py:19: DeprecationWarning: This function is deprecated. Please call randint(1, 10 + 1) instead\n",
      "c:\\users\\gopi\\appdata\\local\\programs\\python\\python37\\lib\\site-packages\\ipykernel_launcher.py:20: DeprecationWarning: This function is deprecated. Please call randint(1, 5 + 1) instead\n"
     ]
    }
   ],
   "source": [
    "'''\n",
    "https://docs.scipy.org/doc/numpy/reference/routines.random.html\n",
    "'''\n",
    "# numpy random sampling :\n",
    "import numpy as np\n",
    "\n",
    "#rand(d0, d1, …, dn)Random values in a given shape.(r,col)\n",
    "print('rand\\n',np.random.rand(3,2))\n",
    "\n",
    "#randn(d0, d1, …, dn)Return a sample (or samples) from the “standard normal” distribution.\n",
    "print('randn \\n',np.random.randn(3,4))#(row,col)\n",
    "      \n",
    "#randint(low[, high, size, dtype])Return random integers from low (inclusive) to high (exclusive)\n",
    "print('randint',np.random.randint(2,5,size=10))\n",
    "print('randint', np.random.randint(2, size=10))\n",
    "print('randint',np.random.randint(5, size=(2, 4)))#Generate a 2 x 4 array of ints between 0 and 4, inclusive:\n",
    "\n",
    "#random_integers(low[, high, size]) Random integers of type np.int between low and high, inclusive.\n",
    "print('random_integers',np.random.random_integers(10))\n",
    "print('random_integers',np.random.random_integers(5,size=(3,2)))\n",
    "\n",
    "#random_sample([size])Return random floats in the half-open interval [0.0, 1.0).\n",
    "#random([size])Return random floats in the half-open interval [0.0, 1.0)\n",
    "#ranf([size])Return random floats in the half-open interval [0.0, 1.0)\n",
    "#sample([size])\tReturn random floats in the half-open interval [0.0, 1.0)\n",
    "print('sample\\n',np.random.random_sample((5,)))\n",
    "print('sample \\n',np.random.random_sample((5,6)))\n",
    "\n",
    "#choice(a[, size, replace, p])Generates a random sample from a given 1-D array\n",
    "print('choice',np.random.choice(5, 3)) #This is equivalent to np.random.randint(0,5,3)\n",
    "print(np.random.choice(5, 3, p=[0.1, 0, 0.3, 0.6, 0]))#Generate a non-uniform random sample from np.arange(5) of size 3:\n",
    "print(np.random.choice(5, 3, replace=False))#Generate a uniform random sample from np.arange(5) of size 3 without replacement:\n",
    "#                                         #This is equivalent to np.random.permutation(np.arange(5))[:3]\n",
    "print(np.random.choice(5, 3, replace=False, p=[0.1, 0, 0.3, 0.6, 0]))#Generate a non-uniform random sample from np.arange(5) of size 3 without replacement:\n",
    "\n",
    "aa_milne_arr = ['pooh', 'rabbit', 'piglet', 'Christopher']\n",
    "print(np.random.choice(aa_milne_arr, 5, p=[0.5, 0.1, 0.1, 0.3]))\n",
    "\n",
    "#bytes(length)\tReturn random bytes.\n",
    "print('bytes',np.random.bytes(5))\n"
   ]
  },
  {
   "cell_type": "code",
   "execution_count": 42,
   "metadata": {},
   "outputs": [
    {
     "name": "stdout",
     "output_type": "stream",
     "text": [
      "['ALLOW_THREADS', 'AxisError', 'BUFSIZE', 'CLIP', 'ComplexWarning', 'DataSource', 'ERR_CALL', 'ERR_DEFAULT', 'ERR_IGNORE', 'ERR_LOG', 'ERR_PRINT', 'ERR_RAISE', 'ERR_WARN', 'FLOATING_POINT_SUPPORT', 'FPE_DIVIDEBYZERO', 'FPE_INVALID', 'FPE_OVERFLOW', 'FPE_UNDERFLOW', 'False_', 'Inf', 'Infinity', 'MAXDIMS', 'MAY_SHARE_BOUNDS', 'MAY_SHARE_EXACT', 'MachAr', 'ModuleDeprecationWarning', 'NAN', 'NINF', 'NZERO', 'NaN', 'PINF', 'PZERO', 'RAISE', 'RankWarning', 'SHIFT_DIVIDEBYZERO', 'SHIFT_INVALID', 'SHIFT_OVERFLOW', 'SHIFT_UNDERFLOW', 'ScalarType', 'Tester', 'TooHardError', 'True_', 'UFUNC_BUFSIZE_DEFAULT', 'UFUNC_PYVALS_NAME', 'VisibleDeprecationWarning', 'WRAP', '_NoValue', '_UFUNC_API', '__NUMPY_SETUP__', '__all__', '__builtins__', '__cached__', '__config__', '__doc__', '__file__', '__git_revision__', '__loader__', '__name__', '__package__', '__path__', '__spec__', '__version__', '_add_newdoc_ufunc', '_arg', '_distributor_init', '_globals', '_mat', '_pytesttester', 'abs', 'absolute', 'absolute_import', 'add', 'add_docstring', 'add_newdoc', 'add_newdoc_ufunc', 'alen', 'all', 'allclose', 'alltrue', 'amax', 'amin', 'angle', 'any', 'append', 'apply_along_axis', 'apply_over_axes', 'arange', 'arccos', 'arccosh', 'arcsin', 'arcsinh', 'arctan', 'arctan2', 'arctanh', 'argmax', 'argmin', 'argpartition', 'argsort', 'argwhere', 'around', 'array', 'array2string', 'array_equal', 'array_equiv', 'array_repr', 'array_split', 'array_str', 'asanyarray', 'asarray', 'asarray_chkfinite', 'ascontiguousarray', 'asfarray', 'asfortranarray', 'asmatrix', 'asscalar', 'atleast_1d', 'atleast_2d', 'atleast_3d', 'average', 'bartlett', 'base_repr', 'binary_repr', 'bincount', 'bitwise_and', 'bitwise_not', 'bitwise_or', 'bitwise_xor', 'blackman', 'block', 'bmat', 'bool', 'bool8', 'bool_', 'broadcast', 'broadcast_arrays', 'broadcast_to', 'busday_count', 'busday_offset', 'busdaycalendar', 'byte', 'byte_bounds', 'bytes0', 'bytes_', 'c_', 'can_cast', 'cast', 'cbrt', 'cdouble', 'ceil', 'cfloat', 'char', 'character', 'chararray', 'choose', 'clip', 'clongdouble', 'clongfloat', 'column_stack', 'common_type', 'compare_chararrays', 'compat', 'complex', 'complex128', 'complex64', 'complex_', 'complexfloating', 'compress', 'concatenate', 'conj', 'conjugate', 'convolve', 'copy', 'copysign', 'copyto', 'core', 'corrcoef', 'correlate', 'cos', 'cosh', 'count_nonzero', 'cov', 'cross', 'csingle', 'ctypeslib', 'cumprod', 'cumproduct', 'cumsum', 'datetime64', 'datetime_as_string', 'datetime_data', 'deg2rad', 'degrees', 'delete', 'deprecate', 'deprecate_with_doc', 'diag', 'diag_indices', 'diag_indices_from', 'diagflat', 'diagonal', 'diff', 'digitize', 'disp', 'divide', 'division', 'divmod', 'dot', 'double', 'dsplit', 'dstack', 'dtype', 'e', 'ediff1d', 'einsum', 'einsum_path', 'emath', 'empty', 'empty_like', 'equal', 'errstate', 'euler_gamma', 'exp', 'exp2', 'expand_dims', 'expm1', 'extract', 'eye', 'fabs', 'fastCopyAndTranspose', 'fft', 'fill_diagonal', 'find_common_type', 'finfo', 'fix', 'flatiter', 'flatnonzero', 'flexible', 'flip', 'fliplr', 'flipud', 'float', 'float16', 'float32', 'float64', 'float_', 'float_power', 'floating', 'floor', 'floor_divide', 'fmax', 'fmin', 'fmod', 'format_float_positional', 'format_float_scientific', 'format_parser', 'frexp', 'frombuffer', 'fromfile', 'fromfunction', 'fromiter', 'frompyfunc', 'fromregex', 'fromstring', 'full', 'full_like', 'fv', 'gcd', 'generic', 'genfromtxt', 'geomspace', 'get_array_wrap', 'get_include', 'get_printoptions', 'getbufsize', 'geterr', 'geterrcall', 'geterrobj', 'gradient', 'greater', 'greater_equal', 'half', 'hamming', 'hanning', 'heaviside', 'histogram', 'histogram2d', 'histogram_bin_edges', 'histogramdd', 'hsplit', 'hstack', 'hypot', 'i0', 'identity', 'iinfo', 'imag', 'in1d', 'index_exp', 'indices', 'inexact', 'inf', 'info', 'infty', 'inner', 'insert', 'int', 'int0', 'int16', 'int32', 'int64', 'int8', 'int_', 'int_asbuffer', 'intc', 'integer', 'interp', 'intersect1d', 'intp', 'invert', 'ipmt', 'irr', 'is_busday', 'isclose', 'iscomplex', 'iscomplexobj', 'isfinite', 'isfortran', 'isin', 'isinf', 'isnan', 'isnat', 'isneginf', 'isposinf', 'isreal', 'isrealobj', 'isscalar', 'issctype', 'issubclass_', 'issubdtype', 'issubsctype', 'iterable', 'ix_', 'kaiser', 'kron', 'lcm', 'ldexp', 'left_shift', 'less', 'less_equal', 'lexsort', 'lib', 'linalg', 'linspace', 'little_endian', 'load', 'loads', 'loadtxt', 'log', 'log10', 'log1p', 'log2', 'logaddexp', 'logaddexp2', 'logical_and', 'logical_not', 'logical_or', 'logical_xor', 'logspace', 'long', 'longcomplex', 'longdouble', 'longfloat', 'longlong', 'lookfor', 'ma', 'mafromtxt', 'mask_indices', 'mat', 'math', 'matmul', 'matrix', 'matrixlib', 'max', 'maximum', 'maximum_sctype', 'may_share_memory', 'mean', 'median', 'memmap', 'meshgrid', 'mgrid', 'min', 'min_scalar_type', 'minimum', 'mintypecode', 'mirr', 'mod', 'modf', 'moveaxis', 'msort', 'multiply', 'nan', 'nan_to_num', 'nanargmax', 'nanargmin', 'nancumprod', 'nancumsum', 'nanmax', 'nanmean', 'nanmedian', 'nanmin', 'nanpercentile', 'nanprod', 'nanquantile', 'nanstd', 'nansum', 'nanvar', 'nbytes', 'ndarray', 'ndenumerate', 'ndfromtxt', 'ndim', 'ndindex', 'nditer', 'negative', 'nested_iters', 'newaxis', 'nextafter', 'nonzero', 'not_equal', 'nper', 'npv', 'numarray', 'number', 'obj2sctype', 'object', 'object0', 'object_', 'ogrid', 'oldnumeric', 'ones', 'ones_like', 'outer', 'packbits', 'pad', 'partition', 'percentile', 'pi', 'piecewise', 'place', 'pmt', 'poly', 'poly1d', 'polyadd', 'polyder', 'polydiv', 'polyfit', 'polyint', 'polymul', 'polynomial', 'polysub', 'polyval', 'positive', 'power', 'ppmt', 'print_function', 'printoptions', 'prod', 'product', 'promote_types', 'ptp', 'put', 'put_along_axis', 'putmask', 'pv', 'quantile', 'r_', 'rad2deg', 'radians', 'random', 'rank', 'rate', 'ravel', 'ravel_multi_index', 'real', 'real_if_close', 'rec', 'recarray', 'recfromcsv', 'recfromtxt', 'reciprocal', 'record', 'remainder', 'repeat', 'require', 'reshape', 'resize', 'result_type', 'right_shift', 'rint', 'roll', 'rollaxis', 'roots', 'rot90', 'round', 'round_', 'row_stack', 's_', 'safe_eval', 'save', 'savetxt', 'savez', 'savez_compressed', 'sctype2char', 'sctypeDict', 'sctypeNA', 'sctypes', 'searchsorted', 'select', 'set_numeric_ops', 'set_printoptions', 'set_string_function', 'setbufsize', 'setdiff1d', 'seterr', 'seterrcall', 'seterrobj', 'setxor1d', 'shape', 'shares_memory', 'short', 'show_config', 'sign', 'signbit', 'signedinteger', 'sin', 'sinc', 'single', 'singlecomplex', 'sinh', 'size', 'sometrue', 'sort', 'sort_complex', 'source', 'spacing', 'split', 'sqrt', 'square', 'squeeze', 'stack', 'std', 'str', 'str0', 'str_', 'string_', 'subtract', 'sum', 'swapaxes', 'sys', 'take', 'take_along_axis', 'tan', 'tanh', 'tensordot', 'test', 'testing', 'tile', 'timedelta64', 'trace', 'tracemalloc_domain', 'transpose', 'trapz', 'tri', 'tril', 'tril_indices', 'tril_indices_from', 'trim_zeros', 'triu', 'triu_indices', 'triu_indices_from', 'true_divide', 'trunc', 'typeDict', 'typeNA', 'typecodes', 'typename', 'ubyte', 'ufunc', 'uint', 'uint0', 'uint16', 'uint32', 'uint64', 'uint8', 'uintc', 'uintp', 'ulonglong', 'unicode', 'unicode_', 'union1d', 'unique', 'unpackbits', 'unravel_index', 'unsignedinteger', 'unwrap', 'ushort', 'vander', 'var', 'vdot', 'vectorize', 'version', 'void', 'void0', 'vsplit', 'vstack', 'warnings', 'where', 'who', 'zeros', 'zeros_like']\n"
     ]
    }
   ],
   "source": [
    "print(dir(np))"
   ]
  },
  {
   "cell_type": "code",
   "execution_count": null,
   "metadata": {},
   "outputs": [],
   "source": []
  }
 ],
 "metadata": {
  "kernelspec": {
   "display_name": "Python 3",
   "language": "python",
   "name": "python3"
  },
  "language_info": {
   "codemirror_mode": {
    "name": "ipython",
    "version": 3
   },
   "file_extension": ".py",
   "mimetype": "text/x-python",
   "name": "python",
   "nbconvert_exporter": "python",
   "pygments_lexer": "ipython3",
   "version": "3.7.1rc1"
  }
 },
 "nbformat": 4,
 "nbformat_minor": 2
}
